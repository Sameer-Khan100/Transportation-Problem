{
 "cells": [
  {
   "cell_type": "code",
   "execution_count": 6,
   "id": "8310ad01-36e9-46fe-bf31-5cdb27f75296",
   "metadata": {},
   "outputs": [],
   "source": [
    "class TransportationProblem(object):\n",
    "    def __init__(self, N,weights):\n",
    "        self.N = N\n",
    "        self.weights=weights\n",
    "\n",
    "    def startState(self):\n",
    "        return 1\n",
    "\n",
    "    def isEnd(self, state):\n",
    "        return state == self.N\n",
    "\n",
    "    def succAndCost(self, state):\n",
    "        result = []\n",
    "        if state + 1 <= self.N:\n",
    "            result.append(('walk', state + 1, self.weights['walk']))\n",
    "        if state + 3 <= self.N:\n",
    "            result.append(('run', state + 3, self.weights['run']))\n",
    "        if 2 * state <= self.N:\n",
    "            result.append(('tram', 2 * state, self.weights['tram']))\n",
    "        return result"
   ]
  },
  {
   "cell_type": "code",
   "execution_count": 7,
   "id": "a070be8d-019c-4958-849d-bb49a95d8708",
   "metadata": {},
   "outputs": [],
   "source": [
    "def dynamicProgramming(problem):\n",
    "    cache = {} # state -> futureCost(state), action, newState, cost\n",
    "    def futureCost(state):\n",
    "        # Base case\n",
    "        if problem.isEnd(state):\n",
    "            return 0\n",
    "        if state in cache: # Exponential savings\n",
    "            return cache[state][0]\n",
    "        # Actually doing work\n",
    "        result = min((cost+futureCost(newState), action, newState, cost) \\\n",
    "                for action, newState, cost in problem.succAndCost(state))\n",
    "        cache[state] = result\n",
    "        return result[0]\n",
    "\n",
    "    state = problem.startState()\n",
    "    totalCost = futureCost(state)\n",
    "\n",
    "    # Recover history\n",
    "    history = []\n",
    "    while not problem.isEnd(state):\n",
    "        _, action, newState, cost = cache[state]\n",
    "        history.append((action, newState, cost))\n",
    "        state = newState\n",
    "\n",
    "    return (futureCost(problem.startState()), history)\n"
   ]
  },
  {
   "cell_type": "code",
   "execution_count": 12,
   "id": "00a2c4ce-a706-4625-87b7-9021f57eaeea",
   "metadata": {},
   "outputs": [],
   "source": [
    "def predict(N,weights):\n",
    "    problem=TransportationProblem(N,weights)\n",
    "    totalCost,history=dynamicProgramming(problem)\n",
    "    return [action for action, newState ,cost in history]\n",
    "def generateExamples():\n",
    "    trueWeights={'walk':1,'run':1.5,'tram':3}\n",
    "    return [(N,predict(N,trueWeights)) for N in range (1,21)]\n",
    "    \n"
   ]
  },
  {
   "cell_type": "markdown",
   "id": "4eb3652a-424a-433d-a023-73a1757eb039",
   "metadata": {},
   "source": [
    "# Printing Examples"
   ]
  },
  {
   "cell_type": "code",
   "execution_count": 13,
   "id": "b60799dc-8fe7-458a-a811-e4a6bd117585",
   "metadata": {},
   "outputs": [
    {
     "name": "stdout",
     "output_type": "stream",
     "text": [
      "Dataset is:\n",
      "  (1, [])\n",
      "  (2, ['walk'])\n",
      "  (3, ['walk', 'walk'])\n",
      "  (4, ['run'])\n",
      "  (5, ['run', 'walk'])\n",
      "  (6, ['run', 'walk', 'walk'])\n",
      "  (7, ['run', 'run'])\n",
      "  (8, ['run', 'run', 'walk'])\n",
      "  (9, ['run', 'run', 'walk', 'walk'])\n",
      "  (10, ['run', 'run', 'run'])\n",
      "  (11, ['run', 'run', 'run', 'walk'])\n",
      "  (12, ['run', 'run', 'run', 'walk', 'walk'])\n",
      "  (13, ['run', 'run', 'run', 'run'])\n",
      "  (14, ['run', 'run', 'tram'])\n",
      "  (15, ['run', 'run', 'tram', 'walk'])\n",
      "  (16, ['run', 'run', 'walk', 'tram'])\n",
      "  (17, ['run', 'run', 'tram', 'run'])\n",
      "  (18, ['run', 'run', 'walk', 'walk', 'tram'])\n",
      "  (19, ['run', 'run', 'walk', 'tram', 'run'])\n",
      "  (20, ['run', 'run', 'run', 'tram'])\n"
     ]
    }
   ],
   "source": [
    "examples=generateExamples()\n",
    "print(\"Dataset is:\")\n",
    "for example in examples:\n",
    "    print(' ',example)"
   ]
  },
  {
   "cell_type": "markdown",
   "id": "f0397aef-a2c1-4f1c-abd0-900c5a81de47",
   "metadata": {},
   "source": [
    "# Structured Perceptron"
   ]
  },
  {
   "cell_type": "code",
   "execution_count": 14,
   "id": "30d7e50e-a3d2-4e94-8360-9dfec7b918df",
   "metadata": {},
   "outputs": [],
   "source": [
    "def structuredPerceptron(examples):\n",
    "    weights={'walk':0,'run':0,'tram':0}\n",
    "    for t in range(100):\n",
    "        numMistakes=0\n",
    "        for N, trueActions in examples:\n",
    "            predActions=predict(N,weights)\n",
    "            if predActions != trueActions:\n",
    "                numMistakes+=1\n",
    "            for action in trueActions:\n",
    "                weights[action]-=1\n",
    "            for action in predActions:\n",
    "                weights[action]+=1\n",
    "        print('Iteration {},numMistakes={}, weights={}'.format(t,numMistakes,weights))\n",
    "        if numMistakes==0:\n",
    "            break;\n",
    "    "
   ]
  },
  {
   "cell_type": "code",
   "execution_count": 15,
   "id": "faaf1941-2c07-4d4e-b3dd-97e4d3ae125b",
   "metadata": {},
   "outputs": [
    {
     "name": "stdout",
     "output_type": "stream",
     "text": [
      "Iteration 0,numMistakes=9, weights={'walk': 19, 'run': 1, 'tram': 0}\n",
      "Iteration 1,numMistakes=12, weights={'walk': 8, 'run': 6, 'tram': 7}\n",
      "Iteration 2,numMistakes=6, weights={'walk': 4, 'run': 6, 'tram': 10}\n",
      "Iteration 3,numMistakes=6, weights={'walk': 4, 'run': 6, 'tram': 11}\n",
      "Iteration 4,numMistakes=2, weights={'walk': 5, 'run': 6, 'tram': 11}\n",
      "Iteration 5,numMistakes=2, weights={'walk': 4, 'run': 7, 'tram': 11}\n",
      "Iteration 6,numMistakes=4, weights={'walk': 4, 'run': 6, 'tram': 12}\n",
      "Iteration 7,numMistakes=0, weights={'walk': 4, 'run': 6, 'tram': 12}\n"
     ]
    }
   ],
   "source": [
    "structuredPerceptron(examples)"
   ]
  },
  {
   "cell_type": "code",
   "execution_count": null,
   "id": "7e375614-00dc-4e23-b5bd-48d94f18a193",
   "metadata": {},
   "outputs": [],
   "source": []
  }
 ],
 "metadata": {
  "kernelspec": {
   "display_name": "Python 3 (ipykernel)",
   "language": "python",
   "name": "python3"
  },
  "language_info": {
   "codemirror_mode": {
    "name": "ipython",
    "version": 3
   },
   "file_extension": ".py",
   "mimetype": "text/x-python",
   "name": "python",
   "nbconvert_exporter": "python",
   "pygments_lexer": "ipython3",
   "version": "3.9.13"
  }
 },
 "nbformat": 4,
 "nbformat_minor": 5
}
