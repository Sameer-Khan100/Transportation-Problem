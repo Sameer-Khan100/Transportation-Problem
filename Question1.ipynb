{
 "cells": [
  {
   "cell_type": "code",
   "execution_count": 1,
   "id": "14c3ff32-04ee-492a-9be4-765c04d6ffc9",
   "metadata": {},
   "outputs": [],
   "source": [
    "import sys\n",
    "sys.setrecursionlimit(10000)\n",
    "from collections import deque\n",
    "import heapq\n",
    "\n",
    "### Model (search problem)\n",
    "\n",
    "class TransportationProblem(object):\n",
    "    def __init__(self, N):\n",
    "        # N = number of blocks\n",
    "        self.N = N\n",
    "\n",
    "    def startState(self):\n",
    "        return 1\n",
    "\n",
    "    def isEnd(self, state):\n",
    "        return state == self.N\n",
    "\n",
    "    def succAndCost(self, state):\n",
    "        # return list of (action, newState, cost) triples\n",
    "        result = []\n",
    "\n",
    "        # Walk to the next block\n",
    "        if state + 1 <= self.N:\n",
    "            result.append(('walk', state + 1, 1))\n",
    "\n",
    "        # Run to the block 3 steps ahead\n",
    "        if state + 3 <= self.N:\n",
    "            result.append(('run', state + 3, 1.5))\n",
    "\n",
    "        # Take the magic tram to 2 * current block\n",
    "        if state * 2 <= self.N:\n",
    "            result.append(('tram', state * 2, 2))\n",
    "\n",
    "        return result\n",
    "\n",
    "### Algorithms\n",
    "\n",
    "def printSolution(solution):\n",
    "    totalCost, history = solution\n",
    "    print('totalCost: {}'.format(totalCost))\n",
    "    for item in history:\n",
    "        print(item)\n",
    "\n"
   ]
  },
  {
   "cell_type": "markdown",
   "id": "484b7c4c-cac8-4295-84b0-2a83ccb3950d",
   "metadata": {},
   "source": [
    "# Dynamic Programmming\n"
   ]
  },
  {
   "cell_type": "code",
   "execution_count": 2,
   "id": "949aa520-9735-479c-bbe3-22861fdb3faa",
   "metadata": {},
   "outputs": [],
   "source": [
    "def dynamicProgramming(problem):\n",
    "    cache = {} # state -> futureCost(state), action, newState, cost\n",
    "    def futureCost(state):\n",
    "        # Base case\n",
    "        if problem.isEnd(state):\n",
    "            return 0\n",
    "        if state in cache: # Exponential savings\n",
    "            return cache[state][0]\n",
    "        # Actually doing work\n",
    "        result = min((cost+futureCost(newState), action, newState, cost) \\\n",
    "                for action, newState, cost in problem.succAndCost(state))\n",
    "        cache[state] = result\n",
    "        return result[0]\n",
    "\n",
    "    state = problem.startState()\n",
    "    totalCost = futureCost(state)\n",
    "\n",
    "    # Recover history\n",
    "    history = []\n",
    "    while not problem.isEnd(state):\n",
    "        _, action, newState, cost = cache[state]\n",
    "        history.append((action, newState, cost))\n",
    "        state = newState\n",
    "\n",
    "    return (futureCost(problem.startState()), history)"
   ]
  },
  {
   "cell_type": "markdown",
   "id": "eaa46218-f65a-44e0-97ee-3d5e5e577176",
   "metadata": {},
   "source": [
    "# Breath First Search\n",
    "We Know that in breath first search we assume the cost to be constant c and constant is greater than 0 (c>0). We traverse the tree Level wise"
   ]
  },
  {
   "cell_type": "code",
   "execution_count": 3,
   "id": "600821a6-d708-4af4-ba59-bc8c82ed10a3",
   "metadata": {},
   "outputs": [],
   "source": [
    "def bfs(problem):\n",
    "    queue = deque([(problem.startState(), [])])\n",
    "\n",
    "    while queue:\n",
    "        state, history = queue.popleft()\n",
    "\n",
    "        if problem.isEnd(state):\n",
    "            return (sum(cost for _, _, cost in history), history)\n",
    "\n",
    "        for action, newState, cost in problem.succAndCost(state):\n",
    "            queue.append((newState, history + [(action, newState, cost)]))\n",
    "            \n",
    "    # return (float('+inf'), None)\n"
   ]
  },
  {
   "cell_type": "markdown",
   "id": "6f7d5323-b04a-4011-9244-6201b52dadbf",
   "metadata": {},
   "source": [
    "# Depth First Search\n",
    "As we know that is depth first search we assume the cost to be 0 at each edge, and we traverse the whole tree once"
   ]
  },
  {
   "cell_type": "code",
   "execution_count": 4,
   "id": "5cb9129c-88d5-4ae8-a2ab-0d82b27b0977",
   "metadata": {},
   "outputs": [],
   "source": [
    "def dfs(problem):\n",
    "    def recurse(state, history, totalCost):\n",
    "        if problem.isEnd(state):\n",
    "            return totalCost, history\n",
    "\n",
    "        for action, newState, cost in problem.succAndCost(state):\n",
    "            result = recurse(newState, history + [(action, newState, cost)], totalCost + cost)\n",
    "            if result:\n",
    "                return result\n",
    "\n",
    "    return recurse(problem.startState(), history=[], totalCost=0)\n"
   ]
  },
  {
   "cell_type": "markdown",
   "id": "40a19eb4-6310-489f-9d39-528c6c75e0e0",
   "metadata": {},
   "source": [
    "# Uniform Cost Search\n"
   ]
  },
  {
   "cell_type": "code",
   "execution_count": 5,
   "id": "ea398ea1-bb84-46f0-8f4a-bc85f3a8abff",
   "metadata": {},
   "outputs": [],
   "source": [
    "import heapq\n",
    "class PriorityQueue:\n",
    "    def __init__(self):\n",
    "        self.DONE = -100000\n",
    "        self.heap = []\n",
    "        self.priorities = {} #Map from state to priority\n",
    "    #Insert [state] into the heap with priority [newPriority] if [state] insn't\n",
    "    #in the heap or [newPriority] is smaller than the exisiting priority\n",
    "    def update(self, state , newPriority):\n",
    "        oldPriority = self.priorities.get(state)\n",
    "        if oldPriority == None or newPriority < oldPriority:\n",
    "            self.priorities[state] = newPriority\n",
    "            heapq.heappush(self.heap, (newPriority ,state))\n",
    "            return True\n",
    "        return False\n",
    "\n",
    "    def removeMin(self):\n",
    "        while len(self.heap) > 0:\n",
    "            priority ,state = heapq.heappop(self.heap)\n",
    "            if self.priorities[state] == self.DONE : continue #Outdated Priority skip\n",
    "            self.priorities[state] = self.DONE\n",
    "            return(state, priority)\n",
    "        return (None, None) #Nothing Left\n",
    "\n",
    "\n",
    "def uniformCostSearch(problem):\n",
    "    frontier = PriorityQueue()\n",
    "    frontier.update(problem.startState(), 0)\n",
    "\n",
    "    # Maintain history alongside cost\n",
    "    history = {problem.startState(): (0, [])}\n",
    "\n",
    "    while True:\n",
    "        # Move frontier to Explored\n",
    "        state, pastCost = frontier.removeMin()\n",
    "        if problem.isEnd(state):\n",
    "            return history[state]\n",
    "\n",
    "        # Push out of Frontier\n",
    "        for action, newState, cost in problem.succAndCost(state):\n",
    "            newCost = pastCost + cost\n",
    "            if frontier.update(newState, newCost):\n",
    "                # Update history only if the state is new or has a lower cost\n",
    "                history[newState] = (newCost, history[state][1] + [(action, newState, cost)])\n"
   ]
  },
  {
   "cell_type": "code",
   "execution_count": 6,
   "id": "a2077361-b7b2-42dd-b515-f3c50e72ef6b",
   "metadata": {},
   "outputs": [
    {
     "name": "stdout",
     "output_type": "stream",
     "text": [
      "\n",
      "Dynamic Programming:\n",
      "totalCost: 4.5\n",
      "('run', 4, 1.5)\n",
      "('run', 7, 1.5)\n",
      "('run', 10, 1.5)\n",
      "\n",
      "Breadth-First Search:\n",
      "totalCost: 4.5\n",
      "('walk', 2, 1)\n",
      "('run', 5, 1.5)\n",
      "('tram', 10, 2)\n",
      "\n",
      "Depth-First Search:\n",
      "totalCost: 9\n",
      "('walk', 2, 1)\n",
      "('walk', 3, 1)\n",
      "('walk', 4, 1)\n",
      "('walk', 5, 1)\n",
      "('walk', 6, 1)\n",
      "('walk', 7, 1)\n",
      "('walk', 8, 1)\n",
      "('walk', 9, 1)\n",
      "('walk', 10, 1)\n",
      "\n",
      "Uniform Cost Search:\n",
      "totalCost: 4.5\n",
      "('walk', 2, 1)\n",
      "('run', 5, 1.5)\n",
      "('tram', 10, 2)\n"
     ]
    }
   ],
   "source": [
    "### Main\n",
    "\n",
    "problem = TransportationProblem(N=10)  \n",
    "\n",
    "print(\"\\nDynamic Programming:\")\n",
    "printSolution(dynamicProgramming(problem))\n",
    "\n",
    "print(\"\\nBreadth-First Search:\")\n",
    "printSolution(bfs(problem))\n",
    "\n",
    "print(\"\\nDepth-First Search:\")\n",
    "printSolution(dfs(problem))\n",
    "\n",
    "print(\"\\nUniform Cost Search:\")\n",
    "printSolution(uniformCostSearch(problem))\n"
   ]
  },
  {
   "cell_type": "code",
   "execution_count": null,
   "id": "0284bf31-1e23-4a97-b944-a8b45e3468b8",
   "metadata": {},
   "outputs": [],
   "source": []
  },
  {
   "cell_type": "code",
   "execution_count": null,
   "id": "bde14782-dc2e-420a-913f-c66cd8851872",
   "metadata": {},
   "outputs": [],
   "source": []
  },
  {
   "cell_type": "code",
   "execution_count": null,
   "id": "9dd3f63f-f0ac-4927-b7fc-81166c45e470",
   "metadata": {},
   "outputs": [],
   "source": []
  }
 ],
 "metadata": {
  "kernelspec": {
   "display_name": "Python 3 (ipykernel)",
   "language": "python",
   "name": "python3"
  },
  "language_info": {
   "codemirror_mode": {
    "name": "ipython",
    "version": 3
   },
   "file_extension": ".py",
   "mimetype": "text/x-python",
   "name": "python",
   "nbconvert_exporter": "python",
   "pygments_lexer": "ipython3",
   "version": "3.9.13"
  }
 },
 "nbformat": 4,
 "nbformat_minor": 5
}
